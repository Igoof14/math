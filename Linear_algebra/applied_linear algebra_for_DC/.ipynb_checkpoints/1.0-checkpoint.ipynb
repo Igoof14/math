{
 "cells": [
  {
   "cell_type": "code",
   "execution_count": 2,
   "id": "ebaa84f1",
   "metadata": {},
   "outputs": [],
   "source": [
    "import numpy as np"
   ]
  },
  {
   "cell_type": "code",
   "execution_count": 8,
   "id": "d214fbe5",
   "metadata": {},
   "outputs": [],
   "source": [
    "a = np.array([[2,3,6]])\n"
   ]
  },
  {
   "cell_type": "code",
   "execution_count": 10,
   "id": "3218cffc",
   "metadata": {},
   "outputs": [],
   "source": [
    "b = np.array([[2],[3],[4]])"
   ]
  },
  {
   "cell_type": "markdown",
   "id": "95e0edc6",
   "metadata": {},
   "source": [
    "multiplication of vectors"
   ]
  },
  {
   "cell_type": "code",
   "execution_count": 14,
   "id": "3cda83f8",
   "metadata": {},
   "outputs": [
    {
     "data": {
      "text/plain": [
       "array([[ 4,  6, 12],\n",
       "       [ 6,  9, 18],\n",
       "       [ 8, 12, 24]])"
      ]
     },
     "execution_count": 14,
     "metadata": {},
     "output_type": "execute_result"
    }
   ],
   "source": [
    "a * b"
   ]
  },
  {
   "cell_type": "markdown",
   "id": "3d60418c",
   "metadata": {},
   "source": [
    "multiplication vectors by a skalar"
   ]
  },
  {
   "cell_type": "code",
   "execution_count": 21,
   "id": "49aa645a",
   "metadata": {
    "scrolled": true
   },
   "outputs": [
    {
     "data": {
      "text/plain": [
       "array([[16, 24, 48]])"
      ]
     },
     "execution_count": 21,
     "metadata": {},
     "output_type": "execute_result"
    }
   ],
   "source": [
    "a * 8"
   ]
  },
  {
   "cell_type": "code",
   "execution_count": 22,
   "id": "1164c8cd",
   "metadata": {},
   "outputs": [],
   "source": [
    "s = 2.0\n",
    "a = [2,3,4]\n",
    "b = np.array([[2,3,4]])"
   ]
  },
  {
   "cell_type": "code",
   "execution_count": 23,
   "id": "d877b875",
   "metadata": {},
   "outputs": [
    {
     "ename": "TypeError",
     "evalue": "can't multiply sequence by non-int of type 'float'",
     "output_type": "error",
     "traceback": [
      "\u001b[0;31m---------------------------------------------------------------------------\u001b[0m",
      "\u001b[0;31mTypeError\u001b[0m                                 Traceback (most recent call last)",
      "Cell \u001b[0;32mIn[23], line 1\u001b[0m\n\u001b[0;32m----> 1\u001b[0m a \u001b[38;5;241m*\u001b[39m s\n",
      "\u001b[0;31mTypeError\u001b[0m: can't multiply sequence by non-int of type 'float'"
     ]
    }
   ],
   "source": [
    "a * s"
   ]
  },
  {
   "cell_type": "code",
   "execution_count": 24,
   "id": "7c622d6b",
   "metadata": {},
   "outputs": [
    {
     "data": {
      "text/plain": [
       "array([[4., 6., 8.]])"
      ]
     },
     "execution_count": 24,
     "metadata": {},
     "output_type": "execute_result"
    }
   ],
   "source": [
    "b * s"
   ]
  },
  {
   "cell_type": "markdown",
   "id": "a07eef46",
   "metadata": {},
   "source": [
    "### Translating vectors\n",
    "\n",
    "[1,1] + [10,20]\\\n",
    "[2,2] + [10,20]\\\n",
    "[3,3] + [10,20]"
   ]
  },
  {
   "cell_type": "code",
   "execution_count": 45,
   "id": "afc2d065",
   "metadata": {},
   "outputs": [
    {
     "data": {
      "text/plain": [
       "array([[11, 21],\n",
       "       [12, 22],\n",
       "       [13, 23]])"
      ]
     },
     "execution_count": 45,
     "metadata": {},
     "output_type": "execute_result"
    }
   ],
   "source": [
    "a = np.array([[1,2,3]]).T\n",
    "b = np.array([[10,20]])\n",
    "a + b"
   ]
  },
  {
   "cell_type": "code",
   "execution_count": 47,
   "id": "bc54dc30",
   "metadata": {},
   "outputs": [
    {
     "data": {
      "text/plain": [
       "array([[11, 12, 13],\n",
       "       [21, 22, 23]])"
      ]
     },
     "execution_count": 47,
     "metadata": {},
     "output_type": "execute_result"
    }
   ],
   "source": [
    "a = np.array([[1,2,3]])\n",
    "b = np.array([[10,20]]).T\n",
    "a + b"
   ]
  },
  {
   "cell_type": "code",
   "execution_count": 44,
   "id": "4986edcd",
   "metadata": {},
   "outputs": [
    {
     "data": {
      "text/plain": [
       "array([[10],\n",
       "       [20]])"
      ]
     },
     "execution_count": 44,
     "metadata": {},
     "output_type": "execute_result"
    }
   ],
   "source": [
    "b"
   ]
  },
  {
   "cell_type": "code",
   "execution_count": null,
   "id": "8f7058a8",
   "metadata": {},
   "outputs": [],
   "source": []
  }
 ],
 "metadata": {
  "kernelspec": {
   "display_name": "Python 3 (ipykernel)",
   "language": "python",
   "name": "python3"
  },
  "language_info": {
   "codemirror_mode": {
    "name": "ipython",
    "version": 3
   },
   "file_extension": ".py",
   "mimetype": "text/x-python",
   "name": "python",
   "nbconvert_exporter": "python",
   "pygments_lexer": "ipython3",
   "version": "3.11.4"
  }
 },
 "nbformat": 4,
 "nbformat_minor": 5
}
