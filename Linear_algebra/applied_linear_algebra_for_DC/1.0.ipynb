{
 "cells": [
  {
   "cell_type": "code",
   "execution_count": 1,
   "id": "ebaa84f1",
   "metadata": {},
   "outputs": [],
   "source": [
    "import numpy as np"
   ]
  },
  {
   "cell_type": "code",
   "execution_count": 3,
   "id": "d214fbe5",
   "metadata": {},
   "outputs": [],
   "source": [
    "a = np.array([[2,3,6]])\n"
   ]
  },
  {
   "cell_type": "code",
   "execution_count": 4,
   "id": "3218cffc",
   "metadata": {},
   "outputs": [],
   "source": [
    "b = np.array([[2],[3],[4]])"
   ]
  },
  {
   "cell_type": "markdown",
   "id": "95e0edc6",
   "metadata": {},
   "source": [
    "multiplication of vectors"
   ]
  },
  {
   "cell_type": "code",
   "execution_count": 5,
   "id": "3cda83f8",
   "metadata": {},
   "outputs": [
    {
     "data": {
      "text/plain": [
       "array([[ 4,  6, 12],\n",
       "       [ 6,  9, 18],\n",
       "       [ 8, 12, 24]])"
      ]
     },
     "execution_count": 5,
     "metadata": {},
     "output_type": "execute_result"
    }
   ],
   "source": [
    "a * b"
   ]
  },
  {
   "cell_type": "markdown",
   "id": "3d60418c",
   "metadata": {},
   "source": [
    "multiplication vectors by a skalar"
   ]
  },
  {
   "cell_type": "code",
   "execution_count": 6,
   "id": "49aa645a",
   "metadata": {
    "scrolled": true
   },
   "outputs": [
    {
     "data": {
      "text/plain": [
       "array([[16, 24, 48]])"
      ]
     },
     "execution_count": 6,
     "metadata": {},
     "output_type": "execute_result"
    }
   ],
   "source": [
    "a * 8"
   ]
  },
  {
   "cell_type": "code",
   "execution_count": 7,
   "id": "1164c8cd",
   "metadata": {},
   "outputs": [],
   "source": [
    "s = 2.0\n",
    "a = [2,3,4]\n",
    "b = np.array([[2,3,4]])"
   ]
  },
  {
   "cell_type": "code",
   "execution_count": 14,
   "id": "d877b875",
   "metadata": {},
   "outputs": [],
   "source": [
    "#a * s\n",
    "#Error"
   ]
  },
  {
   "cell_type": "code",
   "execution_count": 9,
   "id": "7c622d6b",
   "metadata": {},
   "outputs": [
    {
     "data": {
      "text/plain": [
       "array([[4., 6., 8.]])"
      ]
     },
     "execution_count": 9,
     "metadata": {},
     "output_type": "execute_result"
    }
   ],
   "source": [
    "b * s"
   ]
  },
  {
   "cell_type": "markdown",
   "id": "a07eef46",
   "metadata": {},
   "source": [
    "### Translating vectors\n",
    "\n",
    "[1,1] + [10,20]\\\n",
    "[2,2] + [10,20]\\\n",
    "[3,3] + [10,20]"
   ]
  },
  {
   "cell_type": "code",
   "execution_count": 10,
   "id": "afc2d065",
   "metadata": {},
   "outputs": [
    {
     "data": {
      "text/plain": [
       "array([[11, 21],\n",
       "       [12, 22],\n",
       "       [13, 23]])"
      ]
     },
     "execution_count": 10,
     "metadata": {},
     "output_type": "execute_result"
    }
   ],
   "source": [
    "a = np.array([[1,2,3]]).T\n",
    "b = np.array([[10,20]])\n",
    "a + b"
   ]
  },
  {
   "cell_type": "code",
   "execution_count": 11,
   "id": "bc54dc30",
   "metadata": {},
   "outputs": [
    {
     "data": {
      "text/plain": [
       "array([[11, 12, 13],\n",
       "       [21, 22, 23]])"
      ]
     },
     "execution_count": 11,
     "metadata": {},
     "output_type": "execute_result"
    }
   ],
   "source": [
    "a = np.array([[1,2,3]])\n",
    "b = np.array([[10,20]]).T\n",
    "a + b"
   ]
  },
  {
   "cell_type": "code",
   "execution_count": 12,
   "id": "4986edcd",
   "metadata": {},
   "outputs": [
    {
     "data": {
      "text/plain": [
       "array([[10],\n",
       "       [20]])"
      ]
     },
     "execution_count": 12,
     "metadata": {},
     "output_type": "execute_result"
    }
   ],
   "source": [
    "b"
   ]
  },
  {
   "cell_type": "markdown",
   "id": "ce1b5e3e",
   "metadata": {},
   "source": [
    "### Vectors modul"
   ]
  },
  {
   "cell_type": "code",
   "execution_count": 24,
   "id": "9321bc95",
   "metadata": {},
   "outputs": [
    {
     "data": {
      "text/plain": [
       "array([1, 2, 3, 4])"
      ]
     },
     "execution_count": 24,
     "metadata": {},
     "output_type": "execute_result"
    }
   ],
   "source": [
    "a = np.array([1,2,3,4])\n",
    "a"
   ]
  },
  {
   "cell_type": "code",
   "execution_count": 22,
   "id": "260a2cf8",
   "metadata": {},
   "outputs": [
    {
     "data": {
      "text/plain": [
       "4"
      ]
     },
     "execution_count": 22,
     "metadata": {},
     "output_type": "execute_result"
    }
   ],
   "source": [
    "len(a)"
   ]
  },
  {
   "cell_type": "code",
   "execution_count": 23,
   "id": "6ebea34a",
   "metadata": {},
   "outputs": [
    {
     "data": {
      "text/plain": [
       "5.477225575051661"
      ]
     },
     "execution_count": 23,
     "metadata": {},
     "output_type": "execute_result"
    }
   ],
   "source": [
    "np.linalg.norm(a)"
   ]
  },
  {
   "cell_type": "markdown",
   "id": "680cbdf7",
   "metadata": {},
   "source": [
    "### Dot Product of vectors"
   ]
  },
  {
   "cell_type": "code",
   "execution_count": 26,
   "id": "690771f5",
   "metadata": {},
   "outputs": [
    {
     "data": {
      "text/plain": [
       "array([[31]])"
      ]
     },
     "execution_count": 26,
     "metadata": {},
     "output_type": "execute_result"
    }
   ],
   "source": [
    "v = np.array([[1,2,3,5]])\n",
    "w = np.array([[2],[3],[1],[4]])\n",
    "np.dot(v,w)"
   ]
  },
  {
   "cell_type": "code",
   "execution_count": 32,
   "id": "84b032a6",
   "metadata": {},
   "outputs": [
    {
     "data": {
      "text/plain": [
       "array([[31]])"
      ]
     },
     "execution_count": 32,
     "metadata": {},
     "output_type": "execute_result"
    }
   ],
   "source": [
    "s = 1\n",
    "np.dot(s * v,w)"
   ]
  },
  {
   "cell_type": "markdown",
   "id": "353c4bf9",
   "metadata": {},
   "source": [
    "### Hadamarovo multiplication "
   ]
  },
  {
   "cell_type": "code",
   "execution_count": 4,
   "id": "b8e2b516",
   "metadata": {},
   "outputs": [
    {
     "data": {
      "text/plain": [
       "array([5., 0., 4., 2.])"
      ]
     },
     "execution_count": 4,
     "metadata": {},
     "output_type": "execute_result"
    }
   ],
   "source": [
    "a = np.array([5, 4, 8, 2]) \n",
    "b = np.array([1, 0,.5,1]) \n",
    "a*b"
   ]
  },
  {
   "cell_type": "code",
   "execution_count": null,
   "id": "fde9372a",
   "metadata": {},
   "outputs": [],
   "source": []
  },
  {
   "cell_type": "code",
   "execution_count": null,
   "id": "081db41e",
   "metadata": {},
   "outputs": [],
   "source": []
  }
 ],
 "metadata": {
  "kernelspec": {
   "display_name": "Python 3 (ipykernel)",
   "language": "python",
   "name": "python3"
  },
  "language_info": {
   "codemirror_mode": {
    "name": "ipython",
    "version": 3
   },
   "file_extension": ".py",
   "mimetype": "text/x-python",
   "name": "python",
   "nbconvert_exporter": "python",
   "pygments_lexer": "ipython3",
   "version": "3.11.4"
  }
 },
 "nbformat": 4,
 "nbformat_minor": 5
}
